{
 "cells": [
  {
   "cell_type": "code",
   "execution_count": null,
   "id": "8b9f8024-c257-45a8-b5fa-59f8c3de1493",
   "metadata": {},
   "outputs": [],
   "source": [
    "Q1. Write a Python function that takes in two arrays of data and calculates the F-value for a variance ratio test. \n",
    "    The function should return the F-value and the corresponding p-value for the test.\n",
    "\n",
    "Ans-\n",
    "\n"
   ]
  },
  {
   "cell_type": "code",
   "execution_count": 1,
   "id": "d31ea2b6-02eb-4265-81ce-90b31672bf53",
   "metadata": {},
   "outputs": [
    {
     "name": "stdout",
     "output_type": "stream",
     "text": [
      "F-value: 3.6\n",
      "p-value: 0.0943497728424377\n"
     ]
    }
   ],
   "source": [
    "import numpy as np\n",
    "from scipy.stats import f_oneway\n",
    "\n",
    "def calculate_f_value(data1, data2):\n",
    "    f_value, p_value = f_oneway(data1, data2)\n",
    "    return f_value, p_value\n",
    "\n",
    "data1 = np.array([1, 2, 3, 4, 5])\n",
    "data2 = np.array([2, 4, 6, 8, 10])\n",
    "f_value, p_value = calculate_f_value(data1, data2)\n",
    "print(\"F-value:\", f_value)\n",
    "print(\"p-value:\", p_value)\n"
   ]
  },
  {
   "cell_type": "code",
   "execution_count": null,
   "id": "9d6aa2f7-664c-48f4-b790-630500106e5d",
   "metadata": {},
   "outputs": [],
   "source": [
    "Q2. Given a significance level of 0.05 and the degrees of freedom for the numerator and denominator of an\n",
    "    F-distribution, write a Python function that returns the critical F-value for a two-tailed test.\n",
    "    \n",
    "Ans-\n",
    "\n"
   ]
  },
  {
   "cell_type": "code",
   "execution_count": 2,
   "id": "9748097c-94a5-4555-8a3e-86b9b4f94b4f",
   "metadata": {},
   "outputs": [
    {
     "name": "stdout",
     "output_type": "stream",
     "text": [
      "Lower critical F-value: 0.025341563254390048\n",
      "Upper critical F-value: 4.242094126533731\n"
     ]
    }
   ],
   "source": [
    "from scipy.stats import f\n",
    "\n",
    "def calculate_critical_f_value(dfn, dfd):\n",
    "    alpha = 0.05\n",
    "    return f.ppf(alpha/2, dfn, dfd), f.ppf(1 - alpha/2, dfn, dfd)\n",
    "\n",
    "dfn = 2\n",
    "dfd = 27\n",
    "lower_crit, upper_crit = calculate_critical_f_value(dfn, dfd)\n",
    "print(\"Lower critical F-value:\", lower_crit)\n",
    "print(\"Upper critical F-value:\", upper_crit)\n"
   ]
  },
  {
   "cell_type": "code",
   "execution_count": null,
   "id": "91046f5f-7398-4edd-b47b-1cc50b447161",
   "metadata": {},
   "outputs": [],
   "source": [
    "These are the critical F-values for a two-tailed test at a significance level of 0.05 with 2 degrees of freedom in the numerator and 27 degrees of freedom in the denominator of the F-distribution."
   ]
  },
  {
   "cell_type": "code",
   "execution_count": null,
   "id": "d3b8c72b-f019-4986-a2a3-e95fd08c0e39",
   "metadata": {},
   "outputs": [],
   "source": [
    "Q3. Write a Python program that generates random samples from two normal distributions with known\n",
    "    variances and uses an F-test to determine if the variances are equal. The program should output the F-\n",
    "    value, degrees of freedom, and p-value for the test.\n",
    "    \n",
    "Ans-"
   ]
  },
  {
   "cell_type": "code",
   "execution_count": 4,
   "id": "31774dde-9620-44b2-83ca-bf070044c844",
   "metadata": {},
   "outputs": [
    {
     "name": "stdout",
     "output_type": "stream",
     "text": [
      "F-value: 0.6566179287774841\n",
      "Degrees of freedom for numerator: 99\n",
      "Degrees of freedom for denominator: 99\n",
      "p-value: 0.4187293314234368\n"
     ]
    }
   ],
   "source": [
    "import numpy as np\n",
    "from scipy.stats import f_oneway\n",
    "\n",
    "# set seed for reproducibility\n",
    "np.random.seed(42)\n",
    "\n",
    "# generate random samples\n",
    "sample1 = np.random.normal(loc=0, scale=1, size=100)\n",
    "sample2 = np.random.normal(loc=0, scale=1.5, size=100)\n",
    "\n",
    "# calculate F-value and p-value for variance ratio test\n",
    "f_value, p_value = f_oneway(sample1, sample2)\n",
    "\n",
    "# calculate degrees of freedom\n",
    "dfn = len(sample1) - 1\n",
    "dfd = len(sample2) - 1\n",
    "\n",
    "# output results\n",
    "print(\"F-value:\", f_value)\n",
    "print(\"Degrees of freedom for numerator:\", dfn)\n",
    "print(\"Degrees of freedom for denominator:\", dfd)\n",
    "print(\"p-value:\", p_value)\n"
   ]
  },
  {
   "cell_type": "code",
   "execution_count": null,
   "id": "2e7ce9d1-7ae4-4f43-ae5a-a207db5a4e30",
   "metadata": {},
   "outputs": [],
   "source": [
    "Q4.The variances of two populations are known to be 10 and 15. A sample of 12 observations is taken from\n",
    "    each population. Conduct an F-test at the 5% significance level to determine if the variances are\n",
    "    significantly different.\n",
    "    \n",
    "Ans-\n",
    "\n"
   ]
  },
  {
   "cell_type": "code",
   "execution_count": 5,
   "id": "7ded8c07-5ac8-48ef-8a30-f6253967e92d",
   "metadata": {},
   "outputs": [
    {
     "name": "stdout",
     "output_type": "stream",
     "text": [
      "The variances are not significantly different.\n"
     ]
    }
   ],
   "source": [
    "import numpy as np\n",
    "from scipy.stats import f\n",
    "\n",
    "# set the significance level\n",
    "alpha = 0.05\n",
    "\n",
    "# define the sample sizes and known variances\n",
    "n1 = n2 = 12\n",
    "var1 = 10\n",
    "var2 = 15\n",
    "\n",
    "# calculate the F-statistic\n",
    "f_statistic = var2 / var1\n",
    "\n",
    "# calculate the degrees of freedom\n",
    "dfn = n2 - 1\n",
    "dfd = n1 - 1\n",
    "\n",
    "# calculate the p-value\n",
    "p_value = 1 - f.cdf(f_statistic, dfn, dfd)\n",
    "\n",
    "# compare the p-value to the significance level\n",
    "if p_value < alpha:\n",
    "    print(\"The variances are significantly different.\")\n",
    "else:\n",
    "    print(\"The variances are not significantly different.\")\n"
   ]
  },
  {
   "cell_type": "code",
   "execution_count": null,
   "id": "88cf5b08-ae0c-4ea6-aff9-477f769ed33f",
   "metadata": {},
   "outputs": [],
   "source": [
    "Q5. A manufacturer claims that the variance of the diameter of a certain product is 0.005. A sample of 25\n",
    "    products is taken, and the sample variance is found to be 0.006. Conduct an F-test at the 1% significance\n",
    "    level to determine if the claim is justified.\n",
    "    \n",
    "Ans-\n",
    "\n"
   ]
  },
  {
   "cell_type": "code",
   "execution_count": 6,
   "id": "3f161e90-e53a-4af5-bad3-8c4f5e6d0d73",
   "metadata": {},
   "outputs": [
    {
     "name": "stdout",
     "output_type": "stream",
     "text": [
      "The manufacturer's claim is justified.\n"
     ]
    }
   ],
   "source": [
    "import numpy as np\n",
    "from scipy.stats import f\n",
    "\n",
    "# set the significance level\n",
    "alpha = 0.01\n",
    "\n",
    "# define the sample size, sample variance, and claimed variance\n",
    "n = 25\n",
    "sample_variance = 0.006\n",
    "claimed_variance = 0.005\n",
    "\n",
    "# calculate the F-statistic\n",
    "f_statistic = sample_variance / claimed_variance\n",
    "\n",
    "# calculate the degrees of freedom\n",
    "dfn = n - 1\n",
    "dfd = np.inf\n",
    "\n",
    "# calculate the p-value\n",
    "p_value = 1 - f.cdf(f_statistic, dfn, dfd)\n",
    "\n",
    "# compare the p-value to the significance level\n",
    "if p_value < alpha:\n",
    "    print(\"The manufacturer's claim is not justified.\")\n",
    "else:\n",
    "    print(\"The manufacturer's claim is justified.\")\n"
   ]
  },
  {
   "cell_type": "code",
   "execution_count": null,
   "id": "9e6ea33f-6f14-4049-b9a8-b69b4e9c3770",
   "metadata": {},
   "outputs": [],
   "source": [
    "Q6. Write a Python function that takes in the degrees of freedom for the numerator and denominator of an\n",
    "    F-distribution and calculates the mean and variance of the distribution. The function should return the\n",
    "    mean and variance as a tuple.\n",
    "    \n",
    "Ans-\n",
    "\n"
   ]
  },
  {
   "cell_type": "code",
   "execution_count": 2,
   "id": "20844230-66ef-4ce1-acef-868fcf76ff36",
   "metadata": {},
   "outputs": [
    {
     "name": "stdin",
     "output_type": "stream",
     "text": [
      "Enter degrees of freedom for numerator:  5\n",
      "Enter degrees of freedom for denominator:  27\n"
     ]
    },
    {
     "name": "stdout",
     "output_type": "stream",
     "text": [
      "Mean: 1.08\n",
      "Variance: 0.6085565217391304\n"
     ]
    }
   ],
   "source": [
    "import math\n",
    "\n",
    "def f_dist_mean_variance():\n",
    "    num_df = int(input(\"Enter degrees of freedom for numerator: \"))\n",
    "    den_df = int(input(\"Enter degrees of freedom for denominator: \"))\n",
    "    \n",
    "    if num_df <= 0 or den_df <= 0:\n",
    "        raise ValueError(\"Degrees of freedom must be positive\")\n",
    "    \n",
    "    mean = den_df / (den_df - 2)\n",
    "    if den_df <= 4:\n",
    "        variance = math.inf\n",
    "    else:\n",
    "        variance = (2 * (den_df ** 2) * (num_df + den_df - 2)) / (num_df * (den_df - 2) ** 2 * (den_df - 4))\n",
    "    \n",
    "    return mean, variance\n",
    "\n",
    "mean, variance = f_dist_mean_variance()\n",
    "print(\"Mean:\", mean)\n",
    "print(\"Variance:\", variance)\n"
   ]
  },
  {
   "cell_type": "code",
   "execution_count": null,
   "id": "c78e47dd-f6d4-40b8-9434-b1b83059044c",
   "metadata": {},
   "outputs": [],
   "source": [
    "Q7. A random sample of 10 measurements is taken from a normal population with unknown variance. The\n",
    "    sample variance is found to be 25. Another random sample of 15 measurements is taken from another\n",
    "    normal population with unknown variance, and the sample variance is found to be 20. Conduct an F-test\n",
    "    at the 10% significance level to determine if the variances are significantly different.\n",
    "    \n",
    "Ans-\n",
    "\n",
    "To conduct an F-test to determine if the variances of the two populations are significantly different, we can follow these steps:\n",
    "\n",
    "Define the null and alternative hypotheses. \n",
    "In this case, our null hypothesis is that the variances of the two populations are equal (i.e., σ1^2 = σ2^2).\n",
    "Our alternative hypothesis is that the variances of the two populations are not equal (i.e., σ1^2 ≠ σ2^2).\n",
    "\n",
    "Set the significance level (α) to 0.10.\n",
    "\n",
    "Calculate the test statistic, F = s1^2 / s2^2, where s1^2 is the sample variance of the first sample (with n1 = 10) and \n",
    "s2^2 is the sample variance of the second sample (with n2 = 15).\n",
    "\n",
    "Calculate the critical value(s) of F from an F-distribution with (n1-1) and (n2-1) degrees of freedom, such that the probability of observing a larger F-value (in either tail) is equal to α.\n",
    "\n",
    "Compare the test statistic to the critical value(s). \n",
    "If the test statistic is greater than the upper critical value or less than the lower critical value, \n",
    "we reject the null hypothesis and conclude that the variances of the two populations are significantly different.\n",
    "Otherwise, we fail to reject the null hypothesis and conclude that there is not enough evidence to conclude that the variances are different."
   ]
  },
  {
   "cell_type": "code",
   "execution_count": 3,
   "id": "33d07e11-4ad5-41bd-b33b-66ec8c341d04",
   "metadata": {},
   "outputs": [
    {
     "name": "stdout",
     "output_type": "stream",
     "text": [
      "Fail to reject the null hypothesis. The variances are not significantly different.\n"
     ]
    }
   ],
   "source": [
    "import scipy.stats as stats\n",
    "\n",
    "# Define the sample variances and sample sizes\n",
    "s1_sq = 25\n",
    "s2_sq = 20\n",
    "n1 = 10\n",
    "n2 = 15\n",
    "\n",
    "# Calculate the test statistic\n",
    "F = s1_sq / s2_sq\n",
    "\n",
    "# Calculate the p-value from the F-distribution\n",
    "df1 = n1 - 1\n",
    "df2 = n2 - 1\n",
    "p_value = 2 * min(stats.f.cdf(F, df1, df2), 1 - stats.f.cdf(F, df1, df2))\n",
    "\n",
    "# Compare the p-value to the significance level\n",
    "alpha = 0.10\n",
    "if p_value < alpha:\n",
    "    print(\"Reject the null hypothesis. The variances are significantly different.\")\n",
    "else:\n",
    "    print(\"Fail to reject the null hypothesis. The variances are not significantly different.\")\n"
   ]
  },
  {
   "cell_type": "code",
   "execution_count": null,
   "id": "b02dfb72-cf4a-4bc7-a8fe-377ac68c6fa5",
   "metadata": {},
   "outputs": [],
   "source": [
    "Q8. The following data represent the waiting times in minutes at two different restaurants on a Saturday\n",
    "    night: Restaurant A: 24, 25, 28, 23, 22, 20, 27; Restaurant B: 31, 33, 35, 30, 32, 36. Conduct an F-test at the 5%\n",
    "    significance level to determine if the variances are significantly different.\n",
    "    \n",
    "Ans-\n",
    "\n",
    "To conduct an F-test to determine if the variances of the two samples are significantly different, we can follow these steps:\n",
    "\n",
    "Define the null and alternative hypotheses.\n",
    "In this case, our null hypothesis is that the variances of the two populations are equal (i.e., σ1^2 = σ2^2).\n",
    "Our alternative hypothesis is that the variances of the two populations are not equal (i.e., σ1^2 ≠ σ2^2).\n",
    "\n",
    "Set the significance level (α) to 0.05.\n",
    "\n",
    "Calculate the test statistic, F = s1^2 / s2^2, where s1^2 is the sample variance of Restaurant A and \n",
    "s2^2 is the sample variance of Restaurant B.\n",
    "\n",
    "Calculate the critical value(s) of F from an F-distribution with (n1-1) and (n2-1) degrees of freedom, \n",
    "such that the probability of observing a larger F-value (in either tail) is equal to α.\n",
    "\n",
    "Compare the test statistic to the critical value(s).\n",
    "If the test statistic is greater than the upper critical value or less than the lower critical value, we reject the null hypothesis and \n",
    "conclude that the variances of the two populations are significantly different.\n",
    "Otherwise, we fail to reject the null hypothesis and conclude that there is not enough evidence to conclude that the variances are different."
   ]
  },
  {
   "cell_type": "code",
   "execution_count": 4,
   "id": "a5424f58-2a54-4a0b-81e9-81e6ff452b23",
   "metadata": {},
   "outputs": [
    {
     "name": "stdout",
     "output_type": "stream",
     "text": [
      "Fail to reject null hypothesis\n"
     ]
    }
   ],
   "source": [
    "import numpy as np\n",
    "import scipy.stats as stats\n",
    "\n",
    "# Define the waiting time data for Restaurant A and B\n",
    "a = np.array([24, 25, 28, 23, 22, 20, 27])\n",
    "b = np.array([31, 33, 35, 30, 32, 36])\n",
    "\n",
    "# Calculate the sample variances\n",
    "s1_sq = np.var(a, ddof=1)\n",
    "s2_sq = np.var(b, ddof=1)\n",
    "\n",
    "# Calculate the test statistic\n",
    "F = s1_sq / s2_sq\n",
    "\n",
    "# Calculate the p-value from the F-distribution\n",
    "n1 = len(a)\n",
    "n2 = len(b)\n",
    "p_value = stats.f.sf(F, n1-1, n2-1)\n",
    "\n",
    "# Set the significance level\n",
    "alpha = 0.05\n",
    "\n",
    "# Compare the p-value to the significance level\n",
    "if p_value < alpha/2 or p_value > 1-alpha/2:\n",
    "    print(\"Reject null hypothesis\")\n",
    "else:\n",
    "    print(\"Fail to reject null hypothesis\")\n"
   ]
  },
  {
   "cell_type": "code",
   "execution_count": null,
   "id": "9c897625-c507-48e2-921a-3cd19236d348",
   "metadata": {},
   "outputs": [],
   "source": [
    "Q9. The following data represent the test scores of two groups of students: Group A: 80, 85, 90, 92, 87, 83;\n",
    "    Group B: 75, 78, 82, 79, 81, 84. Conduct an F-test at the 1% significance level to determine if the variances\n",
    "    are significantly different.\n",
    "    \n",
    "Ans-\n",
    "\n"
   ]
  },
  {
   "cell_type": "code",
   "execution_count": 5,
   "id": "773f42a2-c83b-4bbe-924e-0d0a8f88f93f",
   "metadata": {},
   "outputs": [
    {
     "name": "stdout",
     "output_type": "stream",
     "text": [
      "Fail to reject null hypothesis\n"
     ]
    }
   ],
   "source": [
    "import numpy as np\n",
    "import scipy.stats as stats\n",
    "\n",
    "# Define the test score data for Group A and B\n",
    "a = np.array([80, 85, 90, 92, 87, 83])\n",
    "b = np.array([75, 78, 82, 79, 81, 84])\n",
    "\n",
    "# Calculate the sample variances\n",
    "s1_sq = np.var(a, ddof=1)\n",
    "s2_sq = np.var(b, ddof=1)\n",
    "\n",
    "# Calculate the test statistic\n",
    "F = s1_sq / s2_sq\n",
    "\n",
    "# Calculate the p-value from the F-distribution\n",
    "n1 = len(a)\n",
    "n2 = len(b)\n",
    "p_value = stats.f.sf(F, n1-1, n2-1)\n",
    "\n",
    "# Set the significance level\n",
    "alpha = 0.01\n",
    "\n",
    "# Compare the p-value to the significance level\n",
    "if p_value < alpha/2 or p_value > 1-alpha/2:\n",
    "    print(\"Reject null hypothesis\")\n",
    "else:\n",
    "    print(\"Fail to reject null hypothesis\")\n"
   ]
  },
  {
   "cell_type": "code",
   "execution_count": null,
   "id": "b9433b23-e3fa-4580-9a23-ab1b4e61128e",
   "metadata": {},
   "outputs": [],
   "source": [
    "The output indicates that we fail to reject the null hypothesis at the 1% significance level, \n",
    "which means that we can't conclude that the variances of the two populations are significantly different."
   ]
  }
 ],
 "metadata": {
  "kernelspec": {
   "display_name": "Python 3 (ipykernel)",
   "language": "python",
   "name": "python3"
  },
  "language_info": {
   "codemirror_mode": {
    "name": "ipython",
    "version": 3
   },
   "file_extension": ".py",
   "mimetype": "text/x-python",
   "name": "python",
   "nbconvert_exporter": "python",
   "pygments_lexer": "ipython3",
   "version": "3.10.8"
  }
 },
 "nbformat": 4,
 "nbformat_minor": 5
}
